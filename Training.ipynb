{
  "nbformat": 4,
  "nbformat_minor": 0,
  "metadata": {
    "colab": {
      "provenance": [],
      "authorship_tag": "ABX9TyO2DZYRGLg88COCJg3Ya0k4",
      "include_colab_link": true
    },
    "kernelspec": {
      "name": "python3",
      "display_name": "Python 3"
    },
    "language_info": {
      "name": "python"
    }
  },
  "cells": [
    {
      "cell_type": "markdown",
      "metadata": {
        "id": "view-in-github",
        "colab_type": "text"
      },
      "source": [
        "<a href=\"https://colab.research.google.com/github/Uvaisbugh/DashCart-Django-Project/blob/main/Training.ipynb\" target=\"_parent\"><img src=\"https://colab.research.google.com/assets/colab-badge.svg\" alt=\"Open In Colab\"/></a>"
      ]
    },
    {
      "cell_type": "code",
      "execution_count": 1,
      "metadata": {
        "colab": {
          "base_uri": "https://localhost:8080/"
        },
        "id": "ViCsthjmPg4G",
        "outputId": "ca79bc2f-3a76-43ac-fc3b-cf66f9238df4"
      },
      "outputs": [
        {
          "output_type": "stream",
          "name": "stdout",
          "text": [
            "Pyramid using for loop:\n",
            "    *\n",
            "   ***\n",
            "  *****\n",
            " *******\n",
            "*********\n",
            "\n",
            "Pyramid using while loop:\n",
            "    *\n",
            "   ***\n",
            "  *****\n",
            " *******\n",
            "*********\n",
            "\n",
            "Inverted Pyramid using for loop:\n",
            "*********\n",
            " *******\n",
            "  *****\n",
            "   ***\n",
            "    *\n",
            "\n",
            "Inverted Pyramid using while loop:\n",
            "*********\n",
            " *******\n",
            "  *****\n",
            "   ***\n",
            "    *\n",
            "\n",
            "Right Aligned Pyramid using for loop:\n",
            "    *\n",
            "   **\n",
            "  ***\n",
            " ****\n",
            "*****\n",
            "\n",
            "Right Aligned Pyramid using while loop:\n",
            "    *\n",
            "   **\n",
            "  ***\n",
            " ****\n",
            "*****\n"
          ]
        }
      ],
      "source": [
        "# prompt: Create different types of pyramids with for and while loop both\n",
        "\n",
        "def pyramid_for(rows):\n",
        "    for i in range(rows):\n",
        "        print(\" \" * (rows - i - 1) + \"*\" * (2 * i + 1))\n",
        "\n",
        "def pyramid_while(rows):\n",
        "    i = 0\n",
        "    while i < rows:\n",
        "        print(\" \" * (rows - i - 1) + \"*\" * (2 * i + 1))\n",
        "        i += 1\n",
        "\n",
        "def inverted_pyramid_for(rows):\n",
        "    for i in range(rows, 0, -1):\n",
        "        print(\" \" * (rows - i) + \"*\" * (2 * i - 1))\n",
        "\n",
        "def inverted_pyramid_while(rows):\n",
        "    i = rows\n",
        "    while i > 0:\n",
        "        print(\" \" * (rows - i) + \"*\" * (2 * i - 1))\n",
        "        i -= 1\n",
        "\n",
        "def right_aligned_pyramid_for(rows):\n",
        "    for i in range(1, rows + 1):\n",
        "        print(\" \" * (rows - i) + \"*\" * i)\n",
        "\n",
        "def right_aligned_pyramid_while(rows):\n",
        "    i = 1\n",
        "    while i <= rows:\n",
        "        print(\" \" * (rows - i) + \"*\" * i)\n",
        "        i += 1\n",
        "\n",
        "\n",
        "# Example usage\n",
        "rows = 5\n",
        "print(\"Pyramid using for loop:\")\n",
        "pyramid_for(rows)\n",
        "print(\"\\nPyramid using while loop:\")\n",
        "pyramid_while(rows)\n",
        "\n",
        "print(\"\\nInverted Pyramid using for loop:\")\n",
        "inverted_pyramid_for(rows)\n",
        "print(\"\\nInverted Pyramid using while loop:\")\n",
        "inverted_pyramid_while(rows)\n",
        "\n",
        "print(\"\\nRight Aligned Pyramid using for loop:\")\n",
        "right_aligned_pyramid_for(rows)\n",
        "print(\"\\nRight Aligned Pyramid using while loop:\")\n",
        "right_aligned_pyramid_while(rows)"
      ]
    },
    {
      "cell_type": "code",
      "source": [
        "# prompt: Print the Fibonacci series for first 12 numbers\n",
        "\n",
        "def fibonacci(n):\n",
        "    a, b = 0, 1\n",
        "    for _ in range(n):\n",
        "        print(a, end=\" \")\n",
        "        a, b = b, a + b\n",
        "\n",
        "fibonacci(12)"
      ],
      "metadata": {
        "colab": {
          "base_uri": "https://localhost:8080/"
        },
        "id": "oHcFawQ4Qnv2",
        "outputId": "a8e97be2-5c22-44d1-d495-b9636eae0c86"
      },
      "execution_count": 2,
      "outputs": [
        {
          "output_type": "stream",
          "name": "stdout",
          "text": [
            "0 1 1 2 3 5 8 13 21 34 55 89 "
          ]
        }
      ]
    },
    {
      "cell_type": "code",
      "source": [
        "# prompt: Write a program to check palindrome number.\n",
        "\n",
        "def is_palindrome(number):\n",
        "    \"\"\"\n",
        "    Checks if a given number is a palindrome.\n",
        "\n",
        "    Args:\n",
        "      number: The number to check.\n",
        "\n",
        "    Returns:\n",
        "      True if the number is a palindrome, False otherwise.\n",
        "    \"\"\"\n",
        "    original_number = number\n",
        "    reversed_number = 0\n",
        "    while number > 0:\n",
        "        reversed_number = reversed_number * 10 + number % 10\n",
        "        number //= 10\n",
        "    return original_number == reversed_number\n",
        "\n",
        "# Example usage\n",
        "number = 121\n",
        "if is_palindrome(number):\n",
        "    print(f\"{number} is a palindrome number\")\n",
        "else:\n",
        "    print(f\"{number} is not a palindrome number\")\n",
        "\n",
        "number = 123\n",
        "if is_palindrome(number):\n",
        "    print(f\"{number} is a palindrome number\")\n",
        "else:\n",
        "    print(f\"{number} is not a palindrome number\")"
      ],
      "metadata": {
        "colab": {
          "base_uri": "https://localhost:8080/"
        },
        "id": "HbLUOmeVRPtP",
        "outputId": "6aa0282e-4e50-4fb0-97d7-fa43f1327347"
      },
      "execution_count": 3,
      "outputs": [
        {
          "output_type": "stream",
          "name": "stdout",
          "text": [
            "121 is a palindrome number\n",
            "123 is not a palindrome number\n"
          ]
        }
      ]
    },
    {
      "cell_type": "code",
      "source": [
        "# prompt: Write a program to check Armstrong number\n",
        "\n",
        "def is_armstrong(num):\n",
        "    \"\"\"\n",
        "    Checks if a given number is an Armstrong number.\n",
        "\n",
        "    Args:\n",
        "      num: The number to check.\n",
        "\n",
        "    Returns:\n",
        "      True if the number is an Armstrong number, False otherwise.\n",
        "    \"\"\"\n",
        "    num_str = str(num)\n",
        "    num_digits = len(num_str)\n",
        "    sum_of_powers = 0\n",
        "    for digit in num_str:\n",
        "        sum_of_powers += int(digit) ** num_digits\n",
        "    return sum_of_powers == num\n",
        "\n",
        "\n",
        "# Example usage\n",
        "number = 153\n",
        "if is_armstrong(number):\n",
        "    print(f\"{number} is an Armstrong number\")\n",
        "else:\n",
        "    print(f\"{number} is not an Armstrong number\")\n",
        "\n",
        "number = 370\n",
        "if is_armstrong(number):\n",
        "    print(f\"{number} is an Armstrong number\")\n",
        "else:\n",
        "    print(f\"{number} is not an Armstrong number\")\n",
        "\n",
        "number = 371\n",
        "if is_armstrong(number):\n",
        "    print(f\"{number} is an Armstrong number\")\n",
        "else:\n",
        "    print(f\"{number} is not an Armstrong number\")"
      ],
      "metadata": {
        "id": "Apyd2cg8SEFF"
      },
      "execution_count": null,
      "outputs": []
    },
    {
      "cell_type": "code",
      "source": [
        "# prompt: Write a program to print sum of digits\n",
        "\n",
        "def sum_of_digits(number):\n",
        "    \"\"\"\n",
        "    Calculates the sum of digits of a given number.\n",
        "\n",
        "    Args:\n",
        "      number: The input number.\n",
        "\n",
        "    Returns:\n",
        "      The sum of digits of the number.\n",
        "    \"\"\"\n",
        "    sum_digits = 0\n",
        "    while number > 0:\n",
        "        digit = number % 10\n",
        "        sum_digits += digit\n",
        "        number //= 10  # Integer division to remove the last digit\n",
        "    return sum_digits\n",
        "\n",
        "\n",
        "# Example usage\n",
        "number = 12345\n",
        "digit_sum = sum_of_digits(number)\n",
        "print(f\"The sum of digits of {number} is: {digit_sum}\")"
      ],
      "metadata": {
        "colab": {
          "base_uri": "https://localhost:8080/"
        },
        "id": "nRKDSeUPSjAv",
        "outputId": "2e1cfe23-f349-4eb6-d2da-a5a43543d74c"
      },
      "execution_count": 4,
      "outputs": [
        {
          "output_type": "stream",
          "name": "stdout",
          "text": [
            "The sum of digits of 12345 is: 15\n"
          ]
        }
      ]
    },
    {
      "cell_type": "code",
      "source": [
        "# prompt: How to find the factorial of number 5.\n",
        "\n",
        "def factorial(n):\n",
        "    if n == 0:\n",
        "        return 1\n",
        "    else:\n",
        "        return n * factorial(n-1)\n",
        "\n",
        "number = 5\n",
        "print(f\"The factorial of {number} is {factorial(number)}\")"
      ],
      "metadata": {
        "colab": {
          "base_uri": "https://localhost:8080/"
        },
        "id": "DlGOr-_OTlYU",
        "outputId": "6aaeb7e0-def6-4f97-c7be-a96528dfecc1"
      },
      "execution_count": 7,
      "outputs": [
        {
          "output_type": "stream",
          "name": "stdout",
          "text": [
            "The factorial of 5 is 120\n"
          ]
        }
      ]
    },
    {
      "cell_type": "code",
      "source": [
        "# prompt: Write a program to check whether a number is prime or not\n",
        "\n",
        "def is_prime(number):\n",
        "    \"\"\"\n",
        "    Checks if a given number is prime.\n",
        "\n",
        "    Args:\n",
        "        number: The number to check.\n",
        "\n",
        "    Returns:\n",
        "        True if the number is prime, False otherwise.\n",
        "    \"\"\"\n",
        "    if number <= 1:\n",
        "        return False\n",
        "    if number <= 3:\n",
        "        return True\n",
        "    if number % 2 == 0 or number % 3 == 0:\n",
        "        return False\n",
        "    i = 5\n",
        "    while i * i <= number:\n",
        "        if number % i == 0 or number % (i + 2) == 0:\n",
        "            return False\n",
        "        i += 6\n",
        "    return True\n",
        "\n",
        "# Example usage\n",
        "number = 17\n",
        "if is_prime(number):\n",
        "    print(f\"{number} is a prime number\")\n",
        "else:\n",
        "    print(f\"{number} is not a prime number\")\n",
        "\n",
        "number = 20\n",
        "if is_prime(number):\n",
        "    print(f\"{number} is a prime number\")\n",
        "else:\n",
        "    print(f\"{number} is not a prime number\")"
      ],
      "metadata": {
        "colab": {
          "base_uri": "https://localhost:8080/"
        },
        "id": "_UrrGu3oTyz4",
        "outputId": "85ce9097-e849-4f6a-9238-175035b20540"
      },
      "execution_count": 8,
      "outputs": [
        {
          "output_type": "stream",
          "name": "stdout",
          "text": [
            "17 is a prime number\n",
            "20 is not a prime number\n"
          ]
        }
      ]
    }
  ]
}